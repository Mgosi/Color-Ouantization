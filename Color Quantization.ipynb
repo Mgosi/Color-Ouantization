{
 "cells": [
  {
   "cell_type": "code",
   "execution_count": 2,
   "metadata": {},
   "outputs": [],
   "source": [
    "import cv2\n",
    "import numpy as np"
   ]
  },
  {
   "cell_type": "markdown",
   "metadata": {},
   "source": [
    "# Retrieving Each Axis Coordinates for all Points"
   ]
  },
  {
   "cell_type": "code",
   "execution_count": 3,
   "metadata": {},
   "outputs": [],
   "source": [
    "def get_col(Pts,col):\n",
    "    return [row[col] for row in Pts]"
   ]
  },
  {
   "cell_type": "markdown",
   "metadata": {},
   "source": [
    "# Calculating Distance and Classifying Each Point To a Class"
   ]
  },
  {
   "cell_type": "code",
   "execution_count": 4,
   "metadata": {},
   "outputs": [],
   "source": [
    "def distanceAndClassify(Mu, Pts):\n",
    "    dist = []\n",
    "    Mu = np.asarray(Mu)\n",
    "    Pts = np.asarray(Pts)\n",
    "    for k in range(len(Pts)):\n",
    "        sub = []\n",
    "        for i in range(len(Mu)):\n",
    "            sub.append(np.sqrt(((Pts[k]-Mu[i])**2).sum()))             #Distance by Euclidean Distance\n",
    "        dist.append(sub.index(min(sub)))                                     #Storing the only the index of the Minimum distance to a Class\n",
    "    return dist"
   ]
  },
  {
   "cell_type": "markdown",
   "metadata": {},
   "source": [
    "# Classifying the Points to the respective Centroid"
   ]
  },
  {
   "cell_type": "code",
   "execution_count": 5,
   "metadata": {},
   "outputs": [],
   "source": [
    "def classifyPlot(Pts, C, k):\n",
    "    cl = []\n",
    "    for i in range(k):\n",
    "        temp = []\n",
    "        for j in range(len(Pts)):\n",
    "            if C[j] == i:                                    #Checks if the Point 'C[j]' is in the corresponding Class 'i'\n",
    "                temp.append(Pts[j])                 #If so, adds the Point to the set of Points in Class 'i'\n",
    "        cl.append(temp) \n",
    "    return cl"
   ]
  },
  {
   "cell_type": "markdown",
   "metadata": {},
   "source": [
    "# Recomputing Mu with the Points in each Class"
   ]
  },
  {
   "cell_type": "code",
   "execution_count": 6,
   "metadata": {},
   "outputs": [],
   "source": [
    "def compMu(Cls, k): \n",
    "    Mu_temp= []\n",
    "    Mu = []\n",
    "    for i in range(k):\n",
    "        Mu_temp= []\n",
    "        for j in range(len(Cls[0][0])):\n",
    "            #Taking the Mean for each Coordinate of a Class\n",
    "            Mu_temp.append(np.around((np.asarray(get_col(Cls[i], j))).mean(),3))  \n",
    "        Mu.append(Mu_temp)\n",
    "    return Mu"
   ]
  },
  {
   "cell_type": "markdown",
   "metadata": {},
   "source": [
    "# Reshaping the image to have the respective centroid color for each pixel in the image"
   ]
  },
  {
   "cell_type": "code",
   "execution_count": 7,
   "metadata": {},
   "outputs": [],
   "source": [
    "def convert_img(Cls, Mu, img):\n",
    "    k = 0\n",
    "    for i in range(img.shape[0]):\n",
    "        for j in range(img.shape[1]):\n",
    "            img[i][j] = Mu[Cls[k]]\n",
    "            k += 1\n",
    "    return img"
   ]
  },
  {
   "cell_type": "markdown",
   "metadata": {},
   "source": [
    "# Stopping Criteria for K-Means"
   ]
  },
  {
   "cell_type": "code",
   "execution_count": 8,
   "metadata": {},
   "outputs": [],
   "source": [
    "def error(Mu, Old_Mu, threshold):\n",
    "    for i in range(len(Mu)):\n",
    "        for j in range(len(Mu[0])):\n",
    "            if (abs(Mu[i][j] - Old_Mu[i][j]) > threshold):\n",
    "                return 1\n",
    "    return 0"
   ]
  },
  {
   "cell_type": "markdown",
   "metadata": {},
   "source": [
    "# Color Quantization - Converting an image into 'k' No. of Colors"
   ]
  },
  {
   "cell_type": "code",
   "execution_count": 17,
   "metadata": {},
   "outputs": [],
   "source": [
    "def color_quantization(image, k, threshold):\n",
    "    print (\"Color Quantization with \"+str(k)+\" Colors\")\n",
    "    #Reading the image\n",
    "    img = cv2.imread(image)\n",
    "    \n",
    "    #Converting all the points into a 2D List\n",
    "    #i.e Reshape [m,n,3] to [m*n,3] List to access each pixel in the image\n",
    "    Pts = img.reshape(img.shape[0]*img.shape[1],3).tolist()\n",
    "    \n",
    "    #Storing the Centroids (Colors) in Mu\n",
    "    Old_Mu = []\n",
    "    Mu = []\n",
    "    \n",
    "    #Randomly generating 'k' Centroids\n",
    "    for i in range(k):\n",
    "        Mu.append((np.random.randint(low=0, high=255, size=3)).tolist())\n",
    "        Old_Mu.append((np.random.randint(low=0,high=1,size=3)).tolist())\n",
    "    \n",
    "    print(\"Initial Centroids (Mu) : \" + str(Mu))\n",
    "    count = 0\n",
    "    #Stops iterating when the difference between the old and new Centroids are below the threshold\n",
    "    while(error(Mu,Old_Mu, threshold)): \n",
    "        \n",
    "        #Calculating distance of each point w.r.t each Centroid and Classifing the Points to the corresponding Centroid\n",
    "        Cls = distanceAndClassify(Mu,Pts)\n",
    "        \n",
    "        #Storing all points in terms of the Centroid to which they are assigned\n",
    "        Classification = classifyPlot(Pts,Cls, k)\n",
    "        \n",
    "        #Storing previous Mu values to compare\n",
    "        Old_Mu = Mu\n",
    "        \n",
    "        #Recomputing the Centroid Means by taking mean of each class formed\n",
    "        Mu = compMu(Classification, k)\n",
    "        count += 1\n",
    "        print(\"Mu after updation \"+str(count)+\" : \" + str(Mu))\n",
    "        \n",
    "        #Converting the 2D set of Points to a 3D Set of Points so that we can display the image\n",
    "        k_img = convert_img(Cls,Mu,img)\n",
    "    cv2.imwrite(\"Color_Quantization_for_\"+str(k)+\"_colors.jpg\",k_img)\n",
    "    return k_img"
   ]
  },
  {
   "cell_type": "code",
   "execution_count": null,
   "metadata": {},
   "outputs": [],
   "source": []
  }
 ],
 "metadata": {
  "kernelspec": {
   "display_name": "Python 3",
   "language": "python",
   "name": "python3"
  },
  "language_info": {
   "codemirror_mode": {
    "name": "ipython",
    "version": 3
   },
   "file_extension": ".py",
   "mimetype": "text/x-python",
   "name": "python",
   "nbconvert_exporter": "python",
   "pygments_lexer": "ipython3",
   "version": "3.6.5"
  }
 },
 "nbformat": 4,
 "nbformat_minor": 2
}
